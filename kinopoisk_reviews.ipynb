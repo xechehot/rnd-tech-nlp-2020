{
  "nbformat": 4,
  "nbformat_minor": 0,
  "metadata": {
    "colab": {
      "name": "Копия блокнота \"Copy of kinopoisk-reviews.ipynb\"",
      "provenance": [],
      "collapsed_sections": [
        "gGGgcMnGQsRr",
        "xapMPSqTQsTV"
      ],
      "toc_visible": true
    },
    "kernelspec": {
      "name": "python3",
      "display_name": "Python 3"
    },
    "accelerator": "GPU"
  },
  "cells": [
    {
      "cell_type": "markdown",
      "metadata": {
        "id": "z93VWpTSQ_69",
        "colab_type": "text"
      },
      "source": [
        "# Загружаем Fast AI"
      ]
    },
    {
      "cell_type": "markdown",
      "metadata": {
        "id": "vXZiNppUzKTn",
        "colab_type": "text"
      },
      "source": [
        "Документация по фреймворку Fast AI по работе с текстом: https://docs.fast.ai/text.html"
      ]
    },
    {
      "cell_type": "markdown",
      "metadata": {
        "id": "sI4J3DsOn8X1",
        "colab_type": "text"
      },
      "source": [
        "Импортируем необходимые модули"
      ]
    },
    {
      "cell_type": "code",
      "metadata": {
        "id": "tYq2IheqQsQD",
        "colab_type": "code",
        "colab": {}
      },
      "source": [
        "%reload_ext autoreload\n",
        "%autoreload 2\n",
        "%matplotlib inline\n",
        "from fastai.text import *\n",
        "import os\n",
        "from tqdm import tqdm_notebook"
      ],
      "execution_count": 36,
      "outputs": []
    },
    {
      "cell_type": "markdown",
      "metadata": {
        "id": "rGdS-Q5ER1Nz",
        "colab_type": "text"
      },
      "source": [
        "# Подготавливаем данные"
      ]
    },
    {
      "cell_type": "markdown",
      "metadata": {
        "id": "ojT0vDrGmrpl",
        "colab_type": "text"
      },
      "source": [
        "Сохраните данные для обучени и модели на свой Google-диск:\n",
        "\n",
        "https://drive.google.com/drive/folders/14E2Kc_V50tlAw-rxLXbKcVCrtvYANBBN\n"
      ]
    },
    {
      "cell_type": "markdown",
      "metadata": {
        "id": "6KXYBEm-qDjk",
        "colab_type": "text"
      },
      "source": [
        "Монтируем Google Drive в Google Colab"
      ]
    },
    {
      "cell_type": "code",
      "metadata": {
        "id": "unaGA51YlhYi",
        "colab_type": "code",
        "colab": {
          "base_uri": "https://localhost:8080/",
          "height": 56
        },
        "outputId": "6b9fcc8a-a571-4a85-c89f-21169be89f03"
      },
      "source": [
        "from google.colab import drive\n",
        "drive.mount('/content/drive')"
      ],
      "execution_count": 37,
      "outputs": [
        {
          "output_type": "stream",
          "text": [
            "Drive already mounted at /content/drive; to attempt to forcibly remount, call drive.mount(\"/content/drive\", force_remount=True).\n"
          ],
          "name": "stdout"
        }
      ]
    },
    {
      "cell_type": "markdown",
      "metadata": {
        "id": "4_mXBTHqqA8-",
        "colab_type": "text"
      },
      "source": [
        "Проверяем, что на Google Drive появилась расшаренная папка `fast-ai-text`"
      ]
    },
    {
      "cell_type": "code",
      "metadata": {
        "id": "xUOnEOA3pst5",
        "colab_type": "code",
        "colab": {
          "base_uri": "https://localhost:8080/",
          "height": 36
        },
        "outputId": "85a41f07-db06-4899-9208-aea0e79ed7bf"
      },
      "source": [
        "! ls '/content/drive/My Drive/fast-ai-text'"
      ],
      "execution_count": 39,
      "outputs": [
        {
          "output_type": "stream",
          "text": [
            "kinopoisk  russian_lm\n"
          ],
          "name": "stdout"
        }
      ]
    },
    {
      "cell_type": "markdown",
      "metadata": {
        "id": "9iIbcOTGq64Y",
        "colab_type": "text"
      },
      "source": [
        "Копируем данные с Google диска на локальный диск виртуальной машины"
      ]
    },
    {
      "cell_type": "code",
      "metadata": {
        "id": "XArT5KyPob2G",
        "colab_type": "code",
        "colab": {}
      },
      "source": [
        "! cp -r '/content/drive/My Drive/fast-ai-text' ml "
      ],
      "execution_count": null,
      "outputs": []
    },
    {
      "cell_type": "markdown",
      "metadata": {
        "id": "aOaKJ4BQsFA3",
        "colab_type": "text"
      },
      "source": [
        "Определяем корневой путь, с которым будем работать"
      ]
    },
    {
      "cell_type": "code",
      "metadata": {
        "id": "1mrWQbHgTgZ_",
        "colab_type": "code",
        "colab": {}
      },
      "source": [
        "ROOT_PATH = Path('/content/ml')"
      ],
      "execution_count": 41,
      "outputs": []
    },
    {
      "cell_type": "code",
      "metadata": {
        "id": "WwidhvykTmcZ",
        "colab_type": "code",
        "colab": {}
      },
      "source": [
        "list(ROOT_PATH.iterdir())"
      ],
      "execution_count": null,
      "outputs": []
    },
    {
      "cell_type": "code",
      "metadata": {
        "id": "1HBJXOlmTp8M",
        "colab_type": "code",
        "colab": {}
      },
      "source": [
        "DATA_PATH = ROOT_PATH/'kinopoisk'/'data'"
      ],
      "execution_count": 43,
      "outputs": []
    },
    {
      "cell_type": "code",
      "metadata": {
        "id": "VYUSeLkXT2Fe",
        "colab_type": "code",
        "colab": {}
      },
      "source": [
        "list(DATA_PATH.iterdir())"
      ],
      "execution_count": null,
      "outputs": []
    },
    {
      "cell_type": "markdown",
      "metadata": {
        "id": "7HzNrebdsbq4",
        "colab_type": "text"
      },
      "source": [
        "### Читаем данные отзывов с помощью Pandas"
      ]
    },
    {
      "cell_type": "code",
      "metadata": {
        "id": "hopchl7CUATw",
        "colab_type": "code",
        "colab": {}
      },
      "source": [
        "names = ['valid', 'train']\n",
        "df_val, df_trn = [pd.read_json(DATA_PATH/f'{name}_reviews.json', lines=True) for name in names]"
      ],
      "execution_count": 45,
      "outputs": []
    },
    {
      "cell_type": "markdown",
      "metadata": {
        "id": "Q91wBLTYsloW",
        "colab_type": "text"
      },
      "source": [
        "Посмотрим, что внутри"
      ]
    },
    {
      "cell_type": "code",
      "metadata": {
        "id": "Yo51jEbwUeeD",
        "colab_type": "code",
        "colab": {}
      },
      "source": [
        "df_val.head()"
      ],
      "execution_count": null,
      "outputs": []
    },
    {
      "cell_type": "markdown",
      "metadata": {
        "id": "yM51hfVzsqI-",
        "colab_type": "text"
      },
      "source": [
        "Размеры тренировочной и валидационной выборок"
      ]
    },
    {
      "cell_type": "code",
      "metadata": {
        "id": "VpkazX8yU8S5",
        "colab_type": "code",
        "colab": {
          "base_uri": "https://localhost:8080/",
          "height": 36
        },
        "outputId": "09a93f14-38e8-41b2-9835-a7b5ab2b074f"
      },
      "source": [
        "df_trn.shape, df_val.shape"
      ],
      "execution_count": 47,
      "outputs": [
        {
          "output_type": "execute_result",
          "data": {
            "text/plain": [
              "((11272, 6), (3750, 6))"
            ]
          },
          "metadata": {
            "tags": []
          },
          "execution_count": 47
        }
      ]
    },
    {
      "cell_type": "code",
      "metadata": {
        "id": "z8C1hIe_Uhsn",
        "colab_type": "code",
        "colab": {}
      },
      "source": [
        "df_val['valid'] = True\n",
        "df_trn['valid'] = False\n",
        "df_all = pd.concat((df_trn, df_val))"
      ],
      "execution_count": 48,
      "outputs": []
    },
    {
      "cell_type": "code",
      "metadata": {
        "id": "VZUQOLJZU4uZ",
        "colab_type": "code",
        "colab": {
          "base_uri": "https://localhost:8080/",
          "height": 36
        },
        "outputId": "841117a8-c34a-4d3e-a9c5-f4ef0c7af74c"
      },
      "source": [
        "df_all.shape"
      ],
      "execution_count": 49,
      "outputs": [
        {
          "output_type": "execute_result",
          "data": {
            "text/plain": [
              "(15022, 7)"
            ]
          },
          "metadata": {
            "tags": []
          },
          "execution_count": 49
        }
      ]
    },
    {
      "cell_type": "markdown",
      "metadata": {
        "id": "6LiGwzdesfya",
        "colab_type": "text"
      },
      "source": [
        "# Языковая модель"
      ]
    },
    {
      "cell_type": "markdown",
      "metadata": {
        "id": "jnDzCkXjQsQM",
        "colab_type": "text"
      },
      "source": [
        "## Подготовка данных"
      ]
    },
    {
      "cell_type": "markdown",
      "metadata": {
        "id": "R_UCwe-8ufjH",
        "colab_type": "text"
      },
      "source": [
        "**BatchSize** - основной гиперпараметр сети, определяющий кол-во одновременно обрабатываемых обучающих примеров"
      ]
    },
    {
      "cell_type": "code",
      "metadata": {
        "id": "156JoFeZQsQa",
        "colab_type": "code",
        "colab": {}
      },
      "source": [
        "bs = 32"
      ],
      "execution_count": 22,
      "outputs": []
    },
    {
      "cell_type": "markdown",
      "metadata": {
        "id": "pTB7_Qetu8i-",
        "colab_type": "text"
      },
      "source": [
        "Загружаем словарь"
      ]
    },
    {
      "cell_type": "code",
      "metadata": {
        "id": "59TyoIwa9cvZ",
        "colab_type": "code",
        "colab": {}
      },
      "source": [
        "vocab = Vocab.load(ROOT_PATH/'kinopoisk'/'models'/'kinopoisk_lm_vocab.pkl')"
      ],
      "execution_count": 23,
      "outputs": []
    },
    {
      "cell_type": "markdown",
      "metadata": {
        "id": "SsUNwszhtLW6",
        "colab_type": "text"
      },
      "source": [
        "Определяем набор данных, с помощью читабельного fluent-api:"
      ]
    },
    {
      "cell_type": "code",
      "metadata": {
        "id": "Qdz4uTdTQsQd",
        "colab_type": "code",
        "colab": {}
      },
      "source": [
        "# data = TextList.from_df(df_all, cols='reviewBody',\n",
        "#                         processor=[TokenizeProcessor(tokenizer=Tokenizer(lang=\"xx\")), \n",
        "#                                    NumericalizeProcessor(vocab=vocab)]).\\\n",
        "#                 split_from_df('valid').\\\n",
        "#                 label_for_lm().\\\n",
        "#                 databunch(bs=bs)"
      ],
      "execution_count": 20,
      "outputs": []
    },
    {
      "cell_type": "markdown",
      "metadata": {
        "id": "SMFSL-ervNHp",
        "colab_type": "text"
      },
      "source": [
        "Сохраняем данные для того, чтобы в следующий раз не приходилось заново обрабатывать текст"
      ]
    },
    {
      "cell_type": "code",
      "metadata": {
        "id": "8IiT7y5uQsQg",
        "colab_type": "code",
        "colab": {}
      },
      "source": [
        "# data.save(DATA_PATH / \"kinopoisk_lm_data.pkl\")"
      ],
      "execution_count": null,
      "outputs": []
    },
    {
      "cell_type": "code",
      "metadata": {
        "id": "HpkfD36rQsQi",
        "colab_type": "code",
        "colab": {}
      },
      "source": [
        "data = load_data(DATA_PATH, \"kinopoisk_lm_data.pkl\", bs)"
      ],
      "execution_count": null,
      "outputs": []
    },
    {
      "cell_type": "markdown",
      "metadata": {
        "id": "cNrRVwSOv5Gj",
        "colab_type": "text"
      },
      "source": [
        "### Посмотрим как выглядят данные"
      ]
    },
    {
      "cell_type": "code",
      "metadata": {
        "id": "VIytDfTlQsQl",
        "colab_type": "code",
        "colab": {}
      },
      "source": [
        "data.show_batch()"
      ],
      "execution_count": null,
      "outputs": []
    },
    {
      "cell_type": "markdown",
      "metadata": {
        "id": "34yG7OeGxBNS",
        "colab_type": "text"
      },
      "source": [
        "Каждому слову (токену) ставится в соответсвии порядковый номер из словаря"
      ]
    },
    {
      "cell_type": "code",
      "metadata": {
        "id": "7e9NgJNdxNWH",
        "colab_type": "code",
        "colab": {}
      },
      "source": [
        "data.vocab.itos[:17]"
      ],
      "execution_count": null,
      "outputs": []
    },
    {
      "cell_type": "markdown",
      "metadata": {
        "id": "fFmEV0zq1Wd8",
        "colab_type": "text"
      },
      "source": [
        "xxunk, xxpad и тд - это специальные токены, для представления текста.\n",
        "Например, токен **xxmaj** показывает, что следующее слово в исходном тексте начинается с большой буквы."
      ]
    },
    {
      "cell_type": "markdown",
      "metadata": {
        "id": "zpESyqWwtgsQ",
        "colab_type": "text"
      },
      "source": [
        "Каждому токену соответсвует число из словаря:"
      ]
    },
    {
      "cell_type": "markdown",
      "metadata": {
        "id": "93Oq0NQGxcjE",
        "colab_type": "text"
      },
      "source": [
        "Задача нейронной сети при обучении языковой модели - предсказать наиболее вероятное слово, идущее после данной последовательности слов."
      ]
    },
    {
      "cell_type": "markdown",
      "metadata": {
        "id": "Tl1w6RjMwLKd",
        "colab_type": "text"
      },
      "source": [
        "## Обучение модели"
      ]
    },
    {
      "cell_type": "markdown",
      "metadata": {
        "id": "kRanSOgnA_ZU",
        "colab_type": "text"
      },
      "source": [
        "Используемая архитектура сети - реализация [AWD-LSTM](https://arxiv.org/abs/1708.02182) (Average SGD Weights Dropped LSTM)"
      ]
    },
    {
      "cell_type": "markdown",
      "metadata": {
        "id": "LNw9kMKhyvi0",
        "colab_type": "text"
      },
      "source": [
        "*Если мы обрабатываем тексты на английском языке, то Fast AI имеет предобученную на Википедии модель*"
      ]
    },
    {
      "cell_type": "code",
      "metadata": {
        "id": "a3VNYGbjQsQo",
        "colab_type": "code",
        "colab": {}
      },
      "source": [
        "# learn = language_model_learner(\n",
        "#     data, AWD_LSTM, drop_mult=0.3, \n",
        "#     metrics=[accuracy, Perplexity()]).to_fp16()"
      ],
      "execution_count": null,
      "outputs": []
    },
    {
      "cell_type": "markdown",
      "metadata": {
        "id": "1qKYaR8q1qPm",
        "colab_type": "text"
      },
      "source": [
        "Мы воспользуемся предобученной моделью на корпусе текстов \"Тайга\".\n",
        "\n",
        "Веса модели взяты взята отсюда: https://github.com/mamamot/Russian-ULMFit\n",
        "\n",
        "Корпус текстов Тайга: https://tatianashavrina.github.io/taiga_site/\n",
        "\n",
        "**Дополнительно**\n",
        "\n",
        "Как обучить языковую модель на википедии: https://github.com/ademyanchuk/ulmfit-multilingual\n",
        "\n",
        "Обсуждение темы на форуме Fast AI: https://forums.fast.ai/t/ulmfit-russian/36312\n",
        "\n"
      ]
    },
    {
      "cell_type": "markdown",
      "metadata": {
        "id": "VvybrajcEA3c",
        "colab_type": "text"
      },
      "source": [
        "*Так как настройки нашей предобученной модели отличаются от дефолтных - мы определим их сами явно*"
      ]
    },
    {
      "cell_type": "code",
      "metadata": {
        "id": "pLjUsRbb20rU",
        "colab_type": "code",
        "colab": {}
      },
      "source": [
        "awd_lstm_lm_config_old = dict(emb_sz=400, n_hid=1150, n_layers=3, pad_token=1, bidir=False, output_p=0.1,\n",
        "                          hidden_p=0.15, input_p=0.25, embed_p=0.02, weight_p=0.2, tie_weights=True, out_bias=True)\n",
        "awd_lstm_clas_config_old = dict(emb_sz=400, n_hid=1150, n_layers=3, pad_token=1, bidir=False, output_p=0.4,\n",
        "                            hidden_p=0.3, input_p=0.4, embed_p=0.05, weight_p=0.5)"
      ],
      "execution_count": 55,
      "outputs": []
    },
    {
      "cell_type": "code",
      "metadata": {
        "id": "dyg1LaZnQsQr",
        "colab_type": "code",
        "colab": {}
      },
      "source": [
        "learn = language_model_learner(data, arch=AWD_LSTM, config=awd_lstm_lm_config_old,\n",
        "                               pretrained_fnames=('lm_5_ep_lr2-3_5_stlr', 'itos'), \n",
        "                               path=ROOT_PATH/'russian_lm',\n",
        "                               pretrained=False)\n"
      ],
      "execution_count": 57,
      "outputs": []
    },
    {
      "cell_type": "markdown",
      "metadata": {
        "id": "24RvsTA-3VVZ",
        "colab_type": "text"
      },
      "source": [
        "Проверим, как работает модель"
      ]
    },
    {
      "cell_type": "code",
      "metadata": {
        "colab_type": "code",
        "id": "2DQCxoitBybY",
        "colab": {}
      },
      "source": [
        "TEXT = \"Британские ученые обнаружили\"\n",
        "N_WORDS = 60\n",
        "N_SENTENCES = 2"
      ],
      "execution_count": 58,
      "outputs": []
    },
    {
      "cell_type": "code",
      "metadata": {
        "colab_type": "code",
        "id": "jhAojYKQBybZ",
        "colab": {}
      },
      "source": [
        "print(\"\\n\".join(learn.predict(TEXT, N_WORDS, temperature=0.7) for _ in range(N_SENTENCES)))"
      ],
      "execution_count": null,
      "outputs": []
    },
    {
      "cell_type": "code",
      "metadata": {
        "id": "S5DfLE-BQsQu",
        "colab_type": "code",
        "colab": {}
      },
      "source": [
        "TEXT = \"Вчера рано утром в Москве\"\n",
        "N_WORDS = 60\n",
        "N_SENTENCES = 2"
      ],
      "execution_count": 61,
      "outputs": []
    },
    {
      "cell_type": "code",
      "metadata": {
        "id": "ZKSj0vFSQsQw",
        "colab_type": "code",
        "colab": {}
      },
      "source": [
        "print(\"\\n\".join(learn.predict(TEXT, N_WORDS, temperature=0.75) for _ in range(N_SENTENCES)))"
      ],
      "execution_count": null,
      "outputs": []
    },
    {
      "cell_type": "code",
      "metadata": {
        "id": "Qps1JUsBuwtD",
        "colab_type": "code",
        "colab": {}
      },
      "source": [
        "# Введите текст:\n",
        "TEXT = \"\"\n",
        "N_WORDS = 60\n",
        "N_SENTENCES = 2"
      ],
      "execution_count": 66,
      "outputs": []
    },
    {
      "cell_type": "code",
      "metadata": {
        "id": "3Oa7N5bW4BNl",
        "colab_type": "code",
        "colab": {}
      },
      "source": [
        ""
      ],
      "execution_count": null,
      "outputs": []
    },
    {
      "cell_type": "markdown",
      "metadata": {
        "id": "Moa-x6nzvUyz",
        "colab_type": "text"
      },
      "source": [
        "### Поиск оптимального шага обучения"
      ]
    },
    {
      "cell_type": "markdown",
      "metadata": {
        "id": "iLXLawq6QsQ2",
        "colab_type": "text"
      },
      "source": [
        "Перед тем как приступить к обучению языковой модели, мы должно найти оптимальный learning_rate (lr) - это гиперпараметр, который определяет с какой скоростью будет обучаться модель"
      ]
    },
    {
      "cell_type": "code",
      "metadata": {
        "id": "Qv0ObLZjQsQ3",
        "colab_type": "code",
        "colab": {}
      },
      "source": [
        "learn.lr_find()"
      ],
      "execution_count": null,
      "outputs": []
    },
    {
      "cell_type": "markdown",
      "metadata": {
        "id": "s1fej8S8QsQ8",
        "colab_type": "text"
      },
      "source": [
        "На графике нам нужно выбрать наибольший LR такой, что Loss (функцию потерь) еще достаточно быстро уменьшается. Мы выберем 10e-2. "
      ]
    },
    {
      "cell_type": "code",
      "metadata": {
        "id": "UHp0_69nQsQ8",
        "colab_type": "code",
        "colab": {}
      },
      "source": [
        "learn.recorder.plot(skip_end=15)"
      ],
      "execution_count": null,
      "outputs": []
    },
    {
      "cell_type": "markdown",
      "metadata": {
        "id": "3tqyBXJ6A0ak",
        "colab_type": "text"
      },
      "source": [
        "Посмотрим из каких слоев состоит нейронная сеть"
      ]
    },
    {
      "cell_type": "code",
      "metadata": {
        "id": "uT-6XJaRCpu6",
        "colab_type": "code",
        "colab": {}
      },
      "source": [
        "learn.model"
      ],
      "execution_count": null,
      "outputs": []
    },
    {
      "cell_type": "code",
      "metadata": {
        "id": "Ell0wDHLAzhU",
        "colab_type": "code",
        "colab": {}
      },
      "source": [
        "learn.summary()"
      ],
      "execution_count": null,
      "outputs": []
    },
    {
      "cell_type": "markdown",
      "metadata": {
        "id": "LSd_MUCbvydJ",
        "colab_type": "text"
      },
      "source": [
        "### ВНИМАНИЕ!!! Обучение языковой модели занимает часы! Не делайте этого на воркшопе"
      ]
    },
    {
      "cell_type": "markdown",
      "metadata": {
        "id": "TL_JhRlOQsQ_",
        "colab_type": "text"
      },
      "source": [
        "Так как часть слов в словаре новые и сеть про них ничего не знает, то мы начнем обучать только последний слой и embedding-и новых слов"
      ]
    },
    {
      "cell_type": "code",
      "metadata": {
        "id": "4_kYemGLQsRA",
        "colab_type": "code",
        "colab": {}
      },
      "source": [
        "learn.fit_one_cycle(1, 1e-2, moms=(0.8,0.7))"
      ],
      "execution_count": null,
      "outputs": []
    },
    {
      "cell_type": "markdown",
      "metadata": {
        "id": "XsLwFGQdQsRD",
        "colab_type": "text"
      },
      "source": [
        "Сохраняем модель"
      ]
    },
    {
      "cell_type": "code",
      "metadata": {
        "id": "o5lME48BQsRE",
        "colab_type": "code",
        "colab": {}
      },
      "source": [
        "learn.save('kinopoisk_head')"
      ],
      "execution_count": null,
      "outputs": []
    },
    {
      "cell_type": "code",
      "metadata": {
        "id": "fIoLX4x9QsRG",
        "colab_type": "code",
        "colab": {}
      },
      "source": [
        "learn.load('kinopoisk_head')"
      ],
      "execution_count": null,
      "outputs": []
    },
    {
      "cell_type": "markdown",
      "metadata": {
        "id": "sFJQx-s3QsRM",
        "colab_type": "text"
      },
      "source": [
        "Теперь мы \"размораживаем\" все слои и продолжим обучение языковой модели"
      ]
    },
    {
      "cell_type": "code",
      "metadata": {
        "id": "VUhzUed6QsRN",
        "colab_type": "code",
        "colab": {}
      },
      "source": [
        "learn.unfreeze()"
      ],
      "execution_count": null,
      "outputs": []
    },
    {
      "cell_type": "code",
      "metadata": {
        "id": "saXP59EaQsRP",
        "colab_type": "code",
        "colab": {}
      },
      "source": [
        "from fastai.callbacks import SaveModelCallback"
      ],
      "execution_count": null,
      "outputs": []
    },
    {
      "cell_type": "code",
      "metadata": {
        "id": "YIG2pLEkQsRQ",
        "colab_type": "code",
        "colab": {}
      },
      "source": [
        "learn.fit_one_cycle(10, 1e-3, moms=(0.8, 0.7), \n",
        "                    callbacks=[SaveModelCallback(learn, name='best_kinopoisk')])"
      ],
      "execution_count": null,
      "outputs": []
    },
    {
      "cell_type": "code",
      "metadata": {
        "id": "I1lM-UCOQsRT",
        "colab_type": "code",
        "colab": {}
      },
      "source": [
        "learn.save('kinopoisk_tuned')"
      ],
      "execution_count": null,
      "outputs": []
    },
    {
      "cell_type": "code",
      "metadata": {
        "id": "ErNnF_NeQsRZ",
        "colab_type": "code",
        "colab": {}
      },
      "source": [
        "learn.load('kinopoisk_tuned');"
      ],
      "execution_count": null,
      "outputs": []
    },
    {
      "cell_type": "markdown",
      "metadata": {
        "id": "Mt3p1-i8_Kyc",
        "colab_type": "text"
      },
      "source": [
        "Качество языковой модели измеряется такой метрикой, как перплексия. В данном случае ее можно посчитать, если взять экспоненту от величины функции потерь на валидационной выборке. Чем меньше перплексия, тем лучше"
      ]
    },
    {
      "cell_type": "code",
      "metadata": {
        "id": "xi93gXyV-yLn",
        "colab_type": "code",
        "colab": {}
      },
      "source": [
        "np.exp(3.248332)"
      ],
      "execution_count": null,
      "outputs": []
    },
    {
      "cell_type": "markdown",
      "metadata": {
        "id": "gGGgcMnGQsRr",
        "colab_type": "text"
      },
      "source": [
        "#### Сохраняем Encoder"
      ]
    },
    {
      "cell_type": "code",
      "metadata": {
        "id": "FNHMcM7LQsRs",
        "colab_type": "code",
        "colab": {}
      },
      "source": [
        "learn.save_encoder('kinopoisk_tuned_enc')"
      ],
      "execution_count": null,
      "outputs": []
    },
    {
      "cell_type": "markdown",
      "metadata": {
        "id": "n1L0h8veiZSr",
        "colab_type": "text"
      },
      "source": [
        "## Загружаем предобученную модель"
      ]
    },
    {
      "cell_type": "markdown",
      "metadata": {
        "id": "2EO-1eqa9SEi",
        "colab_type": "text"
      },
      "source": [
        "А теперь загрузим уже обученную на отзывах модель и поэкспериментируем с ней"
      ]
    },
    {
      "cell_type": "code",
      "metadata": {
        "id": "vivsPsYrhe7a",
        "colab_type": "code",
        "colab": {}
      },
      "source": [
        "learn = language_model_learner(data, arch=AWD_LSTM,\n",
        "                               config=awd_lstm_lm_config_old,\n",
        "                               pretrained=False, \n",
        "                               pretrained_fnames=('kinopoisk_tuned', 'kinopoisk_lm_vocab'),\n",
        "                               path=ROOT_PATH/'kinopoisk')"
      ],
      "execution_count": 73,
      "outputs": []
    },
    {
      "cell_type": "markdown",
      "metadata": {
        "id": "bLPjMAwZkese",
        "colab_type": "text"
      },
      "source": [
        "Посмотрим как работает предсказание"
      ]
    },
    {
      "cell_type": "code",
      "metadata": {
        "id": "hsiPW-WQ9kpd",
        "colab_type": "code",
        "colab": {}
      },
      "source": [
        "TEXT = \"полный эффект присутствия\"\n",
        "N_WORDS = 60\n",
        "N_SENTENCES = 2\n",
        "\n",
        "print(u\"\\n\".join(learn.predict(TEXT, N_WORDS, temperature=0.75).replace('\\r', '') for _ in range(N_SENTENCES)))"
      ],
      "execution_count": null,
      "outputs": []
    },
    {
      "cell_type": "code",
      "metadata": {
        "id": "pnhUmR_gDwfL",
        "colab_type": "code",
        "colab": {}
      },
      "source": [
        "TEXT = \"Мрачный, жестокий фильм с\"\n",
        "N_WORDS = 60\n",
        "N_SENTENCES = 2\n",
        "\n",
        "print(\"\\n\".join(learn.predict(TEXT, N_WORDS, temperature=0.75).replace('\\r', '') for _ in range(N_SENTENCES)))"
      ],
      "execution_count": null,
      "outputs": []
    },
    {
      "cell_type": "code",
      "metadata": {
        "id": "WzB6P11pQsRu",
        "colab_type": "code",
        "colab": {}
      },
      "source": [
        "TEXT = \"На самом деле в этом\"\n",
        "N_WORDS = 90\n",
        "N_SENTENCES = 2\n",
        "\n",
        "print(\"\\n\".join(learn.predict(TEXT, N_WORDS, temperature=0.75).replace('\\r', '') for _ in range(N_SENTENCES)))"
      ],
      "execution_count": null,
      "outputs": []
    },
    {
      "cell_type": "code",
      "metadata": {
        "id": "ZszpidiHQsR5",
        "colab_type": "code",
        "colab": {}
      },
      "source": [
        "TEXT = \"могло быть и\"\n",
        "N_WORDS = 90\n",
        "N_SENTENCES = 2\n",
        "\n",
        "print(\"\\n\".join(learn.predict(TEXT, N_WORDS, temperature=0.75).replace('\\r', '') for _ in range(N_SENTENCES)))"
      ],
      "execution_count": null,
      "outputs": []
    },
    {
      "cell_type": "code",
      "metadata": {
        "id": "H1TcL9HwQsR7",
        "colab_type": "code",
        "colab": {}
      },
      "source": [
        "TEXT = \"самый настоящий провал\"\n",
        "N_WORDS = 60\n",
        "N_SENTENCES = 2\n",
        "\n",
        "print(\"\\n\".join(learn.predict(TEXT, N_WORDS, temperature=0.75).replace('\\r', '') for _ in range(N_SENTENCES)))"
      ],
      "execution_count": null,
      "outputs": []
    },
    {
      "cell_type": "markdown",
      "metadata": {
        "id": "LME33InGQsSo",
        "colab_type": "text"
      },
      "source": [
        "# Классификация отзывов с Кинопоиска"
      ]
    },
    {
      "cell_type": "markdown",
      "metadata": {
        "id": "9_glqglAEMkS",
        "colab_type": "text"
      },
      "source": [
        "## Подготовка данных"
      ]
    },
    {
      "cell_type": "code",
      "metadata": {
        "id": "B_OcABx5QsSt",
        "colab_type": "code",
        "colab": {}
      },
      "source": [
        "bs = 48\n"
      ],
      "execution_count": 77,
      "outputs": []
    },
    {
      "cell_type": "markdown",
      "metadata": {
        "id": "qmcBUMpf5miV",
        "colab_type": "text"
      },
      "source": [
        "Важно, чтобы словарь, используемый для классификатора, \n",
        "в точности **совпадал со словарем**, который использовалася на этапе обучения **языковой модели**"
      ]
    },
    {
      "cell_type": "code",
      "metadata": {
        "id": "zVMrqsGTpY9l",
        "colab_type": "code",
        "colab": {}
      },
      "source": [
        "vocab = Vocab.load(ROOT_PATH/'kinopoisk'/'models'/'kinopoisk_lm_vocab.pkl')"
      ],
      "execution_count": 78,
      "outputs": []
    },
    {
      "cell_type": "code",
      "metadata": {
        "id": "lQeQhB0XACW8",
        "colab_type": "code",
        "colab": {}
      },
      "source": [
        "# если у вас уже загрузены данные языковой модели, то можно сделать\n",
        "# vocab = data.vocab"
      ],
      "execution_count": null,
      "outputs": []
    },
    {
      "cell_type": "code",
      "metadata": {
        "id": "9FEFTr-Mp5kV",
        "colab_type": "code",
        "colab": {
          "base_uri": "https://localhost:8080/",
          "height": 17
        },
        "outputId": "21737da1-10a5-4bf6-e6c8-0f653d75cfa9"
      },
      "source": [
        "data_clas = (TextList.from_df(df_all, cols='reviewBody', vocab=vocab)\n",
        "             .split_from_df('valid')\n",
        "             .label_from_df(cols='status')\n",
        "             .databunch(bs=bs))"
      ],
      "execution_count": 81,
      "outputs": [
        {
          "output_type": "display_data",
          "data": {
            "text/html": [
              ""
            ],
            "text/plain": [
              "<IPython.core.display.HTML object>"
            ]
          },
          "metadata": {
            "tags": []
          }
        },
        {
          "output_type": "display_data",
          "data": {
            "text/html": [
              ""
            ],
            "text/plain": [
              "<IPython.core.display.HTML object>"
            ]
          },
          "metadata": {
            "tags": []
          }
        }
      ]
    },
    {
      "cell_type": "code",
      "metadata": {
        "id": "n6vLyReilH2b",
        "colab_type": "code",
        "colab": {}
      },
      "source": [
        "# data_clas.save(DATA_PATH/'kinopoisk_clas_data.pkl')"
      ],
      "execution_count": 84,
      "outputs": []
    },
    {
      "cell_type": "code",
      "metadata": {
        "id": "6T3qUA7hQsSw",
        "colab_type": "code",
        "colab": {}
      },
      "source": [
        "data_clas = load_data(DATA_PATH, \"kinopoisk_clas_data.pkl\", bs=bs)"
      ],
      "execution_count": 89,
      "outputs": []
    },
    {
      "cell_type": "markdown",
      "metadata": {
        "id": "duZ7fKGwQsTA",
        "colab_type": "text"
      },
      "source": [
        "А теперь создадим классификатор"
      ]
    },
    {
      "cell_type": "code",
      "metadata": {
        "id": "tEbDdB4XQsTB",
        "colab_type": "code",
        "colab": {}
      },
      "source": [
        "learn = text_classifier_learner(data_clas, \n",
        "                                arch=AWD_LSTM,\n",
        "                                config=awd_lstm_clas_config_old,\n",
        "                                drop_mult=0.5, \n",
        "                                path=ROOT_PATH/'kinopoisk',\n",
        "                                pretrained=False)\n",
        "# Загружаем предварительно обученный encoder\n",
        "learn.load_encoder('kinopoisk_tuned_enc');"
      ],
      "execution_count": 91,
      "outputs": []
    },
    {
      "cell_type": "markdown",
      "metadata": {
        "id": "K3KV7jUGQsTD",
        "colab_type": "text"
      },
      "source": [
        "## Обучаем классификатор"
      ]
    },
    {
      "cell_type": "markdown",
      "metadata": {
        "id": "9iURDjsyNGYs",
        "colab_type": "text"
      },
      "source": [
        "Пожалуйста, найдите оптимальный learning rate и обучите модель одну эпоху c этим learning rate, как это делалось для языковой модели. Укажите параметр `moms=(0.8, 0.7)`"
      ]
    },
    {
      "cell_type": "code",
      "metadata": {
        "id": "7OcT7_9qNfS-",
        "colab_type": "code",
        "colab": {}
      },
      "source": [
        ""
      ],
      "execution_count": null,
      "outputs": []
    },
    {
      "cell_type": "code",
      "metadata": {
        "id": "1Loo7V3_Ngaq",
        "colab_type": "code",
        "colab": {}
      },
      "source": [
        ""
      ],
      "execution_count": null,
      "outputs": []
    },
    {
      "cell_type": "code",
      "metadata": {
        "id": "IMuAHjXBNg62",
        "colab_type": "code",
        "colab": {}
      },
      "source": [
        ""
      ],
      "execution_count": null,
      "outputs": []
    },
    {
      "cell_type": "markdown",
      "metadata": {
        "id": "J9VDZbC6VxLE",
        "colab_type": "text"
      },
      "source": [
        "Сохраните полученную модель под именем `kp_first`"
      ]
    },
    {
      "cell_type": "code",
      "metadata": {
        "id": "3xgjcRgkQsTK",
        "colab_type": "code",
        "colab": {}
      },
      "source": [
        ""
      ],
      "execution_count": 95,
      "outputs": []
    },
    {
      "cell_type": "code",
      "metadata": {
        "id": "mN8wR6BUQsTN",
        "colab_type": "code",
        "colab": {}
      },
      "source": [
        ""
      ],
      "execution_count": null,
      "outputs": []
    },
    {
      "cell_type": "code",
      "metadata": {
        "id": "h56GBsEfbQuO",
        "colab_type": "code",
        "colab": {}
      },
      "source": [
        ""
      ],
      "execution_count": null,
      "outputs": []
    },
    {
      "cell_type": "markdown",
      "metadata": {
        "id": "VX3yQv3yQsTP",
        "colab_type": "text"
      },
      "source": [
        "А теперь мы продолжаем размораживать слои, обучая их \"по очереди\", начиная с конца.\n",
        "\n",
        "Мы не хотим сразу разрушить хрупкую структуру Encoder-a, который был обучен на предыдущем шаге."
      ]
    },
    {
      "cell_type": "code",
      "metadata": {
        "id": "hVsd_Re6Beh_",
        "colab_type": "code",
        "colab": {}
      },
      "source": [
        ""
      ],
      "execution_count": null,
      "outputs": []
    },
    {
      "cell_type": "markdown",
      "metadata": {
        "id": "aDkzZ4G1BlXL",
        "colab_type": "text"
      },
      "source": [
        "Сохраните обученную модель с именем `kp_second`"
      ]
    },
    {
      "cell_type": "code",
      "metadata": {
        "id": "HGam81FoQsTS",
        "colab_type": "code",
        "colab": {}
      },
      "source": [
        ""
      ],
      "execution_count": null,
      "outputs": []
    },
    {
      "cell_type": "code",
      "metadata": {
        "id": "mz_QMx3kQsTV",
        "colab_type": "code",
        "colab": {}
      },
      "source": [
        ""
      ],
      "execution_count": null,
      "outputs": []
    },
    {
      "cell_type": "markdown",
      "metadata": {
        "id": "xapMPSqTQsTV",
        "colab_type": "text"
      },
      "source": [
        "### На досуге можно продолжить обучать модель, размораживая следующие слои"
      ]
    },
    {
      "cell_type": "code",
      "metadata": {
        "id": "7hmwHisLQsTW",
        "colab_type": "code",
        "colab": {},
        "outputId": "b9d321d2-dc15-4f34-e2e5-fc955b3293d5"
      },
      "source": [
        "learn.freeze_to(-3)\n",
        "learn.fit_one_cycle(1, slice(5e-3/(2.6**4),5e-3), moms=(0.8,0.7))"
      ],
      "execution_count": null,
      "outputs": [
        {
          "output_type": "display_data",
          "data": {
            "text/html": [
              "Total time: 06:24 <p><table border=\"1\" class=\"dataframe\">\n",
              "  <thead>\n",
              "    <tr style=\"text-align: left;\">\n",
              "      <th>epoch</th>\n",
              "      <th>train_loss</th>\n",
              "      <th>valid_loss</th>\n",
              "      <th>accuracy</th>\n",
              "      <th>time</th>\n",
              "    </tr>\n",
              "  </thead>\n",
              "  <tbody>\n",
              "    <tr>\n",
              "      <td>0</td>\n",
              "      <td>0.141272</td>\n",
              "      <td>0.106738</td>\n",
              "      <td>0.960053</td>\n",
              "      <td>06:24</td>\n",
              "    </tr>\n",
              "  </tbody>\n",
              "</table>"
            ],
            "text/plain": [
              "<IPython.core.display.HTML object>"
            ]
          },
          "metadata": {
            "tags": []
          }
        }
      ]
    },
    {
      "cell_type": "code",
      "metadata": {
        "id": "7KonfQ91QsTY",
        "colab_type": "code",
        "colab": {}
      },
      "source": [
        "learn.save('kp_third')"
      ],
      "execution_count": null,
      "outputs": []
    },
    {
      "cell_type": "code",
      "metadata": {
        "id": "nrxwEdJ8QsTZ",
        "colab_type": "code",
        "colab": {}
      },
      "source": [
        "learn.load('kp_third');"
      ],
      "execution_count": null,
      "outputs": []
    },
    {
      "cell_type": "code",
      "metadata": {
        "id": "OGm9wm7SQsTa",
        "colab_type": "code",
        "colab": {}
      },
      "source": [
        "learn.unfreeze()\n",
        "learn.fit_one_cycle(1, slice(1e-3/(2.6**4),1e-3), moms=(0.8,0.7))\n",
        "# Дальше возникает переобучение"
      ],
      "execution_count": null,
      "outputs": []
    },
    {
      "cell_type": "markdown",
      "metadata": {
        "id": "IZ3U0bd4EidH",
        "colab_type": "text"
      },
      "source": [
        "Мы натренировали нашу сеть, которая **с высокой точностью (96%)** определяет \"тональность\" отзыва"
      ]
    },
    {
      "cell_type": "markdown",
      "metadata": {
        "id": "5gAqyfdkQsTb",
        "colab_type": "text"
      },
      "source": [
        "### Загрузим уже обученный заранее классификатор"
      ]
    },
    {
      "cell_type": "code",
      "metadata": {
        "id": "NveHoNKSQsTc",
        "colab_type": "code",
        "colab": {}
      },
      "source": [
        "learn.load('kinopoisk_clas_tuned');"
      ],
      "execution_count": 97,
      "outputs": []
    },
    {
      "cell_type": "markdown",
      "metadata": {
        "id": "PsShKOY3QsTe",
        "colab_type": "text"
      },
      "source": [
        "Давайте проверим ее на случайном отызыве с кинопоиска"
      ]
    },
    {
      "cell_type": "code",
      "metadata": {
        "id": "2Yjl1KaOXDzb",
        "colab_type": "code",
        "colab": {}
      },
      "source": [
        "# Пример положительного отзыва\n",
        "\n",
        "learn.predict('''\n",
        "«Балканский рубеж» в некотором роде уникальный фильм для нашего синематографа последнего времени. И вот почему, с одной стороны мы снимаем по лекалам телефильмов о доблестном спецназе кино, которое при прочих равных прошло бы более или менее не замеченным, а с другой стороны обозначаем проблему сосуществования народов и этнических войн на территории бывшей Югославии. К данной теме я вообще не равнодушен и было интересно взглянуть, как отечественный режиссер покажет эти моменты. И получилось совсем не плохо, по крайней мере, у меня не возникает чувства непонимания, что происходило в Боснии и Косово. Да, широкими мазками обозначена проблема, зато доходчиво донесено, что испытывали простые люди при развале страны. \n",
        "\n",
        "После конфликта во взаимодействии с силами НАТО, члены разведовательно — диверсионной группы оказываются в непростой ситуации и вынуждены остаться вне пределов России. Каждый устраивается по своему в новой жизни и старается выжить. Но изменение вектора политической обстановки вновь делает их востребованными Отечеством. Надо занять и удержать аэропорт Приштины в Косово, до подхода российских миротворцев. Захват и удержание показаны в добротной манере отечественных сериалов, останавливаться на этом не буду, меня больше порадовали второстепенные линии сюжета. Возможно, сотрудничество с сербами сделали эти линии проникновенными с чисто человеческого восприятия. Это и драма в роддоме при налетах НАТО, и непростые отношения косоваров и сербов на примере полицейского поста в Косово, и этническо — конфессиональные расстрелы, и напряжение до срывов медработников от вида пострадавших — говорят война все спишет, это так. Только вот рубцов и ран в душах людей не излечит даже время, боль и горечь потерь близких и друзей долго будет жить в памяти. \n",
        "\n",
        "Переплетение реальных фактов и художественного вымысла неплохо сочеталось в этой ленте — марш-бросок на Приштину десантников удачно дополнил бой группы Бека, восторги сербов на кадрах хроники и киношные смотрелись органично. Что касается политических перипетий, то это дело грязное и идеологический контекст можно и пропустить при просмотре, хотя ничего нереального в показанном я не увидел. Порадовали показанные будни десантников, под «Сектор газа» смотрелось реалистично, вполне реальное развлечение для отвлечения от повседневной рутины.\n",
        "\n",
        "Актеры сыграли в целом нормально и наши и сербские, из наших мне понравились Куркова, Полухин и Марин, из сербов Гойко Митич, Бикович и Родойичич. Специфический юмор только усилил игру актеров. Кустурица в концовке тоже смотрелся к месту. В целом, не проявив чудес актерского мастерства все смотрелись не плохо. \n",
        "\n",
        "Минусы конечно есть и довольно жирные, в основном связаны с навязыванием определенного идеологического подтекста, и увы, незнанием особенностей службы в войсках специального назначения. Но в целом фильм они не уродуют, поэтому смело отношу его к положительным моментам нашего кинопроката.\n",
        "''')"
      ],
      "execution_count": null,
      "outputs": []
    },
    {
      "cell_type": "code",
      "metadata": {
        "id": "HBJXwCQ6QsTg",
        "colab_type": "code",
        "colab": {}
      },
      "source": [
        "# Пример отрицательного отзыва\n",
        "\n",
        "learn.predict('''\n",
        "Пусть видят, кто против них (с)\n",
        "\n",
        "В конце 90-ых, во время очередного конфликта между сербами и албанцами, российская спецгруппа, находящаяся на территории Югославии, получает приказ захватить местный аэропорт и удержать его до прихода наших миротворцев.\n",
        "\n",
        "Режиссер «Танцев насмерть» и «Спирали», посредственных, никому ненужных картин, Андрей Волгин на западе давно бы оказался у разбитого корыта и пошел бы на прорыв, получив последний шанс или вошел бы в какую-нибудь когорту создателей сериалов, где ты просто один из тех, кто визуализирует чужие идеи. У нас же все совершенно по-другому произошло… Волгин получил большой бюджет, материал и не самых последних актеров, и что же он из этого смастерил? Все самое наипростейшее… Мотивы героев, как и предсказуемость сюжетных ходов и выпрыгивания спецэффектов из-за ушла — все это уже миллион раз использованные другими ходы, причем и реализованные сверхстандартно и стерильно. Ведь если у тебя есть антагонист, то кроме как дать ему нож и возможность оправдать рейтинг 16+ — единственный вариант продемонстрировать его характер и жестокость. Так же и с другими героями, один поет, другой постоянно про пенсию говорит, третий хочет денег, а узбечка заглянула на проект в поисках мужика, так и работают. А зрителям еще нужно разбираться причем тут НАТО, кто виноват и что делать, в общем не считая плохих дорог здесь есть все классические вопросы, волнующие русских на протяжении веков.\n",
        "\n",
        "По какой-то совершенно непонятной причине главную роль в «Балканском рубеже» исполнил Антон Пампушный («Защитники») — парень, конечно, колоритный, но с одной эмоцией на лице на любое происшествие и действие в его (их) сторону. Странно видеть таким потерянным Милоша Биковича («Лед»), у него здесь ключевая драматическая роль, но он так все это преподносит, что хочется снять ему скальп ничуть не меньше, чем террористам, которые гоняются за ним. Красивую Милену Радулович («Однажды летней ночью») при любой возможности раздевают, а героиня Равшаны Курковой («Без границ») получилась не только крутой, но еще и с юморком. Одного из самых запоминающихся бойцов с нашей стороны сыграл Сергей Марин («Анна-детективъ»), его неоднозначности и крутости, могли бы позавидовать и заграничные коллеги. Для увесистости в фильм влились: Гоша Куценко («Параграф 78»), которому очень нравится собирать себе отряды, любимейший югослав старшего поколения Гойко Митич («Апачи») и вечный Эмир Кустурица («Время цыган»). \n",
        "\n",
        "Картина «Балканских рубеж» очевидно снята явно из хороших побуждений и желания сделать, что-то свое на уровне Бэя и его «13 часов». Главные герои — такие наши Джеймсы Бонды без фантастической составляющей. Но вот снят «Балканский рубеж» самым скучным и потребительским образом: с кучей слоу-мо, увидев его количество даже создатели «Т-34» тихо стоят и покуривать в сторонке, хотя попытку сыграть в масштаб и серьезность можно и зачесть. Правда дешевые спецэффекты и длиннющие диалоги с попыткой хоть как-то раскрыть героев портят этот и так слишком затянутый фильм с нелогичным кастингом и музыкой, которая убаюкивает зрителей постоянно повторяющимся мотивом.''')"
      ],
      "execution_count": null,
      "outputs": []
    },
    {
      "cell_type": "code",
      "metadata": {
        "id": "yifpN_4UQsTh",
        "colab_type": "code",
        "colab": {}
      },
      "source": [
        "learn.predict('Очень хороший фильм')"
      ],
      "execution_count": null,
      "outputs": []
    },
    {
      "cell_type": "code",
      "metadata": {
        "id": "fshaEXqiQsTj",
        "colab_type": "code",
        "colab": {}
      },
      "source": [
        "learn.predict('Почему то мне кажется, что фильм далек от идеала. Я бы не советовал его смотреть')"
      ],
      "execution_count": null,
      "outputs": []
    },
    {
      "cell_type": "code",
      "metadata": {
        "id": "hwxel6_hQsTl",
        "colab_type": "code",
        "colab": {}
      },
      "source": [
        "learn.predict('''\n",
        "              Фильм показался мне ужасным.\n",
        "              Это невероятное чувство плохой игры актеров.\n",
        "              Не рекомендую смотреть\n",
        "              ''')"
      ],
      "execution_count": null,
      "outputs": []
    },
    {
      "cell_type": "markdown",
      "metadata": {
        "id": "TTLwhfHaQsTm",
        "colab_type": "text"
      },
      "source": [
        "Экспериментируйте!"
      ]
    },
    {
      "cell_type": "code",
      "metadata": {
        "id": "uovHi79XQsTo",
        "colab_type": "code",
        "colab": {}
      },
      "source": [
        "learn.predict(\"Лучший фильм, который я когда-либо смотрел!\")"
      ],
      "execution_count": null,
      "outputs": []
    },
    {
      "cell_type": "code",
      "metadata": {
        "id": "to0AeZEmQsTp",
        "colab_type": "code",
        "colab": {}
      },
      "source": [
        "learn.predict(\"Это худший фильм, который я когда-либо смотрел. Такие дела. Хотя может быть и стоит посмотреть фанатам\")"
      ],
      "execution_count": null,
      "outputs": []
    },
    {
      "cell_type": "markdown",
      "metadata": {
        "id": "mVkoFGYFQsTq",
        "colab_type": "text"
      },
      "source": [
        "## Интерпритируем результаты работы"
      ]
    },
    {
      "cell_type": "code",
      "metadata": {
        "id": "yyZdbgjNQsTq",
        "colab_type": "code",
        "colab": {
          "base_uri": "https://localhost:8080/",
          "height": 17
        },
        "outputId": "da65b1da-76d7-4c89-9fed-ff3bcf8e7a51"
      },
      "source": [
        "interp = ClassificationInterpretation.from_learner(learn)"
      ],
      "execution_count": 105,
      "outputs": [
        {
          "output_type": "display_data",
          "data": {
            "text/html": [
              ""
            ],
            "text/plain": [
              "<IPython.core.display.HTML object>"
            ]
          },
          "metadata": {
            "tags": []
          }
        }
      ]
    },
    {
      "cell_type": "code",
      "metadata": {
        "id": "EzWWVZEaQsTr",
        "colab_type": "code",
        "colab": {
          "base_uri": "https://localhost:8080/",
          "height": 36
        },
        "outputId": "1763f02c-0af2-4283-ea2b-9532c369bac4"
      },
      "source": [
        "losses,idxs = interp.top_losses()\n",
        "\n",
        "len(data_clas.valid_ds)==len(losses)==len(idxs)"
      ],
      "execution_count": 106,
      "outputs": [
        {
          "output_type": "execute_result",
          "data": {
            "text/plain": [
              "True"
            ]
          },
          "metadata": {
            "tags": []
          },
          "execution_count": 106
        }
      ]
    },
    {
      "cell_type": "markdown",
      "metadata": {
        "id": "XcyhsF9JD3tD",
        "colab_type": "text"
      },
      "source": [
        "Пары классов, которые сеть путает больше всего"
      ]
    },
    {
      "cell_type": "code",
      "metadata": {
        "colab_type": "code",
        "id": "rcsxoIvg8FcX",
        "colab": {}
      },
      "source": [
        "interp.most_confused()"
      ],
      "execution_count": null,
      "outputs": []
    },
    {
      "cell_type": "code",
      "metadata": {
        "id": "B4jLsPNzEqRI",
        "colab_type": "code",
        "colab": {}
      },
      "source": [
        ""
      ],
      "execution_count": null,
      "outputs": []
    },
    {
      "cell_type": "markdown",
      "metadata": {
        "id": "jzEtcr2YDtpe",
        "colab_type": "text"
      },
      "source": [
        "Посмотрим на матрицу ошибок:"
      ]
    },
    {
      "cell_type": "code",
      "metadata": {
        "id": "rYjXNFXqQsTt",
        "colab_type": "code",
        "colab": {}
      },
      "source": [
        "interp.plot_confusion_matrix(figsize=(7,7), dpi=80)"
      ],
      "execution_count": null,
      "outputs": []
    },
    {
      "cell_type": "code",
      "metadata": {
        "id": "TBiQQI2OQsTu",
        "colab_type": "code",
        "colab": {}
      },
      "source": [
        "learn.predict('Это ужасный фильм. И как это я мог такое смотреть? Крайне не рекомендую')"
      ],
      "execution_count": null,
      "outputs": []
    },
    {
      "cell_type": "code",
      "metadata": {
        "id": "lH9aBarOqmsi",
        "colab_type": "code",
        "colab": {}
      },
      "source": [
        ""
      ],
      "execution_count": null,
      "outputs": []
    }
  ]
}